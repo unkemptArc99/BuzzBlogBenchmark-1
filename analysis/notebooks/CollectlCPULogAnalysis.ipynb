{
 "cells": [
  {
   "cell_type": "markdown",
   "metadata": {},
   "source": [
    "# Collectl CPU Log Analysis"
   ]
  },
  {
   "cell_type": "markdown",
   "metadata": {},
   "source": [
    "## Functionalities\n",
    "- Plot CPU utilization graphs.\n",
    "\n",
    "## Input\n",
    "Log files are read from a directory in `../data`. This directory is assumed to have the following structure:\n",
    "```\n",
    "logs/\n",
    "  [node-1]/\n",
    "    collectl.tar.gz\n",
    "  ...\n",
    "  [node-n]/\n",
    "    collectl.tar.gz\n",
    "```\n",
    "A tarball `collectl.tar.gz` contains log files. The log file extension identifies the type of resource monitored:\n",
    "- `.cpu.gz`: CPU monitoring log file.\n",
    "- `.numa.gz`: memory monitoring log file.\n",
    "- `.dsk.gz`: disk I/O monitoring log file."
   ]
  },
  {
   "cell_type": "markdown",
   "metadata": {},
   "source": [
    "## Notebook Configuration"
   ]
  },
  {
   "cell_type": "code",
   "execution_count": null,
   "metadata": {},
   "outputs": [],
   "source": [
    "########## GENERAL\n",
    "# Name of the directory in `../data`\n",
    "EXPERIMENT_DIRNAME = \"BuzzBlogBenchmark_[TIMESTAMP]\"\n",
    "# Ramp up duration (in sec)\n",
    "RAMP_UP_DURATION = 180\n",
    "# Ramp down duration (in sec)\n",
    "RAMP_DOWN_DURATION = 180\n",
    "\n",
    "########## CPU\n",
    "# Analyzed metric (options: \"user\", \"nice\", \"system\", \"wait\", \"irq\", \"soft\",\n",
    "# \"steal\", \"idle\", \"total\", \"guest\", \"guest_n\", \"intrpt\")\n",
    "COLLECTL_CPU_METRIC = \"total\"\n",
    "# Filter CPU cores\n",
    "COLLECTL_CPU_CORES = None"
   ]
  },
  {
   "cell_type": "markdown",
   "metadata": {},
   "source": [
    "## Notebook Setup"
   ]
  },
  {
   "cell_type": "code",
   "execution_count": null,
   "metadata": {},
   "outputs": [],
   "source": [
    "%matplotlib inline\n",
    "import matplotlib.pyplot as plt\n",
    "import os\n",
    "import pandas as pd\n",
    "import sys\n",
    "import warnings\n",
    "warnings.filterwarnings(\"ignore\")\n",
    "\n",
    "sys.path.append(os.path.abspath(os.path.join(\"..\")))\n",
    "from utils.utils import *\n",
    "\n",
    "experiment_dirpath = os.path.join(os.path.abspath(\"\"), \"..\", \"data\", EXPERIMENT_DIRNAME)"
   ]
  },
  {
   "cell_type": "markdown",
   "metadata": {},
   "source": [
    "## Log Parsing & Processing"
   ]
  },
  {
   "cell_type": "code",
   "execution_count": null,
   "metadata": {},
   "outputs": [],
   "source": [
    "# Build data frame\n",
    "cpu = pd.concat([df[2] for df in get_collectl_cpu_df(experiment_dirpath)])"
   ]
  },
  {
   "cell_type": "code",
   "execution_count": null,
   "metadata": {},
   "outputs": [],
   "source": [
    "# Filter data frames\n",
    "if COLLECTL_CPU_CORES:\n",
    "    cpu = cpu[(cpu[\"hw_no\"].isin(COLLECTL_CPU_CORES))]"
   ]
  },
  {
   "cell_type": "code",
   "execution_count": null,
   "metadata": {},
   "outputs": [],
   "source": [
    "# Extract experiment information\n",
    "start_time = get_experiment_start_time(experiment_dirpath)\n",
    "node_names = get_node_names(experiment_dirpath)"
   ]
  },
  {
   "cell_type": "code",
   "execution_count": null,
   "metadata": {},
   "outputs": [],
   "source": [
    "# (Re) Build columns\n",
    "cpu[\"timestamp\"] = cpu.apply(lambda r: (r[\"timestamp\"] - start_time).total_seconds(), axis=1)\n",
    "cpu[\"window\"] = cpu.apply(lambda r: int(r[\"timestamp\"]), axis=1)"
   ]
  },
  {
   "cell_type": "code",
   "execution_count": null,
   "metadata": {},
   "outputs": [],
   "source": [
    "# (Re) Create index\n",
    "cpu.set_index(\"timestamp\", inplace=True)\n",
    "cpu.sort_index(inplace=True)"
   ]
  },
  {
   "cell_type": "markdown",
   "metadata": {},
   "source": [
    "## CPU Monitoring"
   ]
  },
  {
   "cell_type": "code",
   "execution_count": null,
   "metadata": {},
   "outputs": [],
   "source": [
    "# Plot CPU utilization (1-sec granularity)\n",
    "fig = plt.figure(figsize=(24, len(node_names) * 12))\n",
    "for (i, node_name) in enumerate(node_names):\n",
    "    df = cpu[(cpu[\"node_name\"] == node_name)]\n",
    "    df = df.groupby([\"window\"])[COLLECTL_CPU_METRIC].mean()\n",
    "    ax = fig.add_subplot(len(node_names), 1, i + 1)\n",
    "    ax.set_xlim((df.index.min(), df.index.max()))\n",
    "    ax.set_ylim((0, 100))\n",
    "    ax.grid(alpha=0.75)\n",
    "    df.plot(ax=ax, kind=\"line\", title=\"%s - CPU Utilization\" % node_name, xlabel=\"Time (seconds)\",\n",
    "            ylabel=\"%s (%%)\" % COLLECTL_CPU_METRIC, grid=True, legend=False, yticks=range(0, 101, 10))"
   ]
  },
  {
   "cell_type": "code",
   "execution_count": null,
   "metadata": {},
   "outputs": [],
   "source": [
    "########## LOCAL CONFIG\n",
    "# Minimum time (in seconds)\n",
    "MIN_TIME = None\n",
    "# Maximum time (in seconds)\n",
    "MAX_TIME = None\n",
    "\n",
    "# Plot CPU utilization (millisec granularity)\n",
    "if MIN_TIME and MAX_TIME:\n",
    "    fig = plt.figure(figsize=(24, len(node_names) * 12))\n",
    "    for (i, node_name) in enumerate(node_names):\n",
    "        df = cpu[(cpu[\"node_name\"] == node_name)]\n",
    "        df = df[(df.index >= MIN_TIME) & (df.index <= MAX_TIME)]\n",
    "        df = df.groupby([\"timestamp\", \"hw_no\"])[COLLECTL_CPU_METRIC].mean()\n",
    "        df = df.unstack()\n",
    "        ax = fig.add_subplot(len(node_names), 1, i + 1)\n",
    "        ax.set_xlim((df.index.min(), df.index.max()))\n",
    "        ax.set_ylim((0, 100))\n",
    "        ax.grid(alpha=0.75)\n",
    "        df.plot(ax=ax, kind=\"line\", title=\"%s - CPU Utilization\" % node_name, xlabel=\"Time (seconds)\",\n",
    "                ylabel=\"%s (%%)\" % COLLECTL_CPU_METRIC, grid=True, legend=True, yticks=range(0, 101, 10))"
   ]
  }
 ],
 "metadata": {
  "interpreter": {
   "hash": "31f2aee4e71d21fbe5cf8b01ff0e069b9275f58929596ceb00d14d90e3e16cd6"
  },
  "kernelspec": {
   "display_name": "Python 3 (ipykernel)",
   "language": "python",
   "name": "python3"
  },
  "language_info": {
   "codemirror_mode": {
    "name": "ipython",
    "version": 3
   },
   "file_extension": ".py",
   "mimetype": "text/x-python",
   "name": "python",
   "nbconvert_exporter": "python",
   "pygments_lexer": "ipython3",
   "version": "3.8.10"
  }
 },
 "nbformat": 4,
 "nbformat_minor": 2
}

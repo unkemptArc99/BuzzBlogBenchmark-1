{
 "cells": [
  {
   "cell_type": "markdown",
   "metadata": {},
   "source": [
    "# TCP Listen Backlog Analysis"
   ]
  },
  {
   "cell_type": "markdown",
   "metadata": {},
   "source": [
    "## Functionalities\n",
    "- Plot queue length of TCP sockets.\n",
    "\n",
    "## Input\n",
    "Log files are read from a directory in `../data`. This directory is assumed to have the following structure:\n",
    "```\n",
    "logs/\n",
    "  [node-1]/\n",
    "    tcplistenbl-bpftrace.tar.gz\n",
    "  ...\n",
    "  [node-n]/\n",
    "    tcplistenbl-bpftrace.tar.gz\n",
    "```"
   ]
  },
  {
   "cell_type": "markdown",
   "metadata": {},
   "source": [
    "## Notebook Configuration"
   ]
  },
  {
   "cell_type": "code",
   "execution_count": null,
   "metadata": {},
   "outputs": [],
   "source": [
    "########## GENERAL\n",
    "# Name of the directory in `../data`\n",
    "EXPERIMENT_DIRNAME = \"BuzzBlogBenchmark_[TIMESTAMP]\""
   ]
  },
  {
   "cell_type": "markdown",
   "metadata": {},
   "source": [
    "## Notebook Setup"
   ]
  },
  {
   "cell_type": "code",
   "execution_count": null,
   "metadata": {},
   "outputs": [],
   "source": [
    "%matplotlib inline\n",
    "import matplotlib.pyplot as plt\n",
    "import os\n",
    "import pandas as pd\n",
    "import sys\n",
    "import warnings\n",
    "warnings.filterwarnings(\"ignore\")\n",
    "\n",
    "sys.path.append(os.path.abspath(os.path.join(\"..\")))\n",
    "from utils.utils import *\n",
    "\n",
    "experiment_dirpath = os.path.join(os.path.abspath(\"\"), \"..\", \"data\", EXPERIMENT_DIRNAME)"
   ]
  },
  {
   "cell_type": "markdown",
   "metadata": {},
   "source": [
    "## Log Parsing & Processing"
   ]
  },
  {
   "cell_type": "code",
   "execution_count": null,
   "metadata": {},
   "outputs": [],
   "source": [
    "# Build data frame\n",
    "bl = pd.concat([df[2] for df in get_tcplistenbl_df(experiment_dirpath)])"
   ]
  },
  {
   "cell_type": "code",
   "execution_count": null,
   "metadata": {},
   "outputs": [],
   "source": [
    "# Extract experiment information\n",
    "start_time = get_experiment_start_time(experiment_dirpath) - pd.Timedelta(hours=6)\n",
    "node_names = get_node_names(experiment_dirpath)"
   ]
  },
  {
   "cell_type": "code",
   "execution_count": null,
   "metadata": {},
   "outputs": [],
   "source": [
    "# (Re) Build columns\n",
    "bl[\"timestamp\"] = bl.apply(lambda r: (r[\"timestamp\"] - start_time).total_seconds(), axis=1)\n",
    "bl[\"window_1000\"] = bl[\"timestamp\"].round(0).multiply(1000)\n",
    "bl[\"window_10\"] = bl[\"timestamp\"].round(2).multiply(1000)"
   ]
  },
  {
   "cell_type": "code",
   "execution_count": null,
   "metadata": {},
   "outputs": [],
   "source": [
    "# (Re) Create index\n",
    "bl.set_index(\"timestamp\", inplace=True)\n",
    "bl.sort_index(inplace=True)"
   ]
  },
  {
   "cell_type": "markdown",
   "metadata": {},
   "source": [
    "## TCP Socket Queue Length"
   ]
  },
  {
   "cell_type": "code",
   "execution_count": null,
   "metadata": {},
   "outputs": [],
   "source": [
    "fig = plt.figure(figsize=(24, len(node_names) * 12))\n",
    "for (i, node_name) in enumerate(sorted(node_names)):\n",
    "    # Data frame\n",
    "    df = bl[(bl[\"node_name\"] == node_name)].groupby([\"window_1000\"])[\"len\"].max().reindex(range(0, int(bl[\"window_1000\"].max()) + 1, 1000), fill_value=0)\n",
    "    # Plot\n",
    "    ax = fig.add_subplot(len(node_names), 1, i + 1)\n",
    "    ax.set_xlim((0, df.index.max()))\n",
    "    ax.set_ylim((0, df.values.max()))\n",
    "    ax.grid(alpha=0.75)\n",
    "    df.plot(ax=ax, kind=\"line\", title=\"%s - Queue Length\" % node_name, xlabel=\"Time (millisec)\", ylabel=\"Requests (count)\", grid=True, legend=False)"
   ]
  },
  {
   "cell_type": "code",
   "execution_count": null,
   "metadata": {},
   "outputs": [],
   "source": [
    "########## ZOOM IN\n",
    "# Minimum time (in sec)\n",
    "MIN_TIME = 320\n",
    "# Maximum time (in sec)\n",
    "MAX_TIME = 330\n",
    "\n",
    "if MIN_TIME and MAX_TIME:\n",
    "    fig = plt.figure(figsize=(24, len(node_names) * 12))\n",
    "    for (i, node_name) in enumerate(sorted(node_names)):\n",
    "        # Data frame\n",
    "        df = bl[(bl[\"node_name\"] == node_name) & (bl.index >= MIN_TIME) & (bl.index <= MAX_TIME)]\n",
    "        if df.empty:\n",
    "            continue\n",
    "        df = df.groupby([\"window_10\"])[\"len\"].max().reindex(range(int(df[\"window_10\"].min()), int(df[\"window_10\"].max()) + 1, 10), fill_value=0)\n",
    "        # Plot\n",
    "        ax = fig.add_subplot(len(node_names), 1, i + 1)\n",
    "        ax.set_xlim((int(df.index.min()), int(df.index.max())))\n",
    "        ax.set_ylim((0, df.values.max()))\n",
    "        ax.grid(alpha=0.75)\n",
    "        df.plot(ax=ax, kind=\"line\", title=\"%s - Queue Length\" % node_name, xlabel=\"Time (millisec)\", ylabel=\"Requests (count)\", grid=True, legend=False)"
   ]
  }
 ],
 "metadata": {
  "interpreter": {
   "hash": "916dbcbb3f70747c44a77c7bcd40155683ae19c65e1c03b4aa3499c5328201f1"
  },
  "kernelspec": {
   "display_name": "Python 3.8.10 64-bit",
   "name": "python3"
  },
  "language_info": {
   "codemirror_mode": {
    "name": "ipython",
    "version": 3
   },
   "file_extension": ".py",
   "mimetype": "text/x-python",
   "name": "python",
   "nbconvert_exporter": "python",
   "pygments_lexer": "ipython3",
   "version": "3.8.10"
  },
  "orig_nbformat": 4
 },
 "nbformat": 4,
 "nbformat_minor": 2
}

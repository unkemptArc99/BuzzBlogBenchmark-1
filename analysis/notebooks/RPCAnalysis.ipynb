{
 "cells": [
  {
   "cell_type": "markdown",
   "metadata": {},
   "source": [
    "# RPC Log Analysis"
   ]
  },
  {
   "cell_type": "markdown",
   "metadata": {},
   "source": [
    "## Functionalities\n",
    "- Plot number of RPCs per second.\n",
    "- Plot instantaneous latency of RPCs.\n",
    "- Plot latency distribution of RPCs.\n",
    "\n",
    "## Input\n",
    "Log files are read from a directory in `../data`. This directory is assumed to have the following structure:\n",
    "```\n",
    "logs/\n",
    "  [node-1]/\n",
    "    *_service*.tar.gz\n",
    "    ...\n",
    "    apigateway*.tar.gz\n",
    "  ...\n",
    "  [node-n]/\n",
    "    *_service*.tar.gz\n",
    "    ...\n",
    "    apigateway*.tar.gz\n",
    "```"
   ]
  },
  {
   "cell_type": "markdown",
   "metadata": {},
   "source": [
    "## Notebook Configuration"
   ]
  },
  {
   "cell_type": "code",
   "execution_count": null,
   "metadata": {},
   "outputs": [],
   "source": [
    "########## GENERAL\n",
    "# Name of the directory in `../data`\n",
    "EXPERIMENT_DIRNAME = \"BuzzBlogBenchmark_[TIMESTAMP]\"\n",
    "\n",
    "########## LATENCY\n",
    "# Bin size\n",
    "LATENCY_BIN_IN_MS = 1"
   ]
  },
  {
   "cell_type": "markdown",
   "metadata": {},
   "source": [
    "## Notebook Setup"
   ]
  },
  {
   "cell_type": "code",
   "execution_count": null,
   "metadata": {},
   "outputs": [],
   "source": [
    "%matplotlib inline\n",
    "import matplotlib.pyplot as plt\n",
    "import os\n",
    "import pandas as pd\n",
    "import sys\n",
    "import warnings\n",
    "warnings.filterwarnings(\"ignore\")\n",
    "\n",
    "sys.path.append(os.path.abspath(os.path.join(\"..\")))\n",
    "from utils.utils import *\n",
    "\n",
    "experiment_dirpath = os.path.join(os.path.abspath(\"\"), \"..\", \"data\", EXPERIMENT_DIRNAME)"
   ]
  },
  {
   "cell_type": "markdown",
   "metadata": {},
   "source": [
    "## Log Parsing & Processing"
   ]
  },
  {
   "cell_type": "code",
   "execution_count": null,
   "metadata": {},
   "outputs": [],
   "source": [
    "# Build data frame\n",
    "rpc = pd.concat([df[2] for df in get_rpc_df(experiment_dirpath)])"
   ]
  },
  {
   "cell_type": "code",
   "execution_count": null,
   "metadata": {},
   "outputs": [],
   "source": [
    "# Extract experiment information\n",
    "start_time = get_experiment_start_time(experiment_dirpath)\n",
    "max_latency_in_s = int(rpc[\"latency\"].max()) + 1.0\n",
    "function_names = sorted(rpc[\"function\"].unique())"
   ]
  },
  {
   "cell_type": "code",
   "execution_count": null,
   "metadata": {},
   "outputs": [],
   "source": [
    "# (Re) Build columns\n",
    "rpc[\"timestamp\"] = rpc.apply(lambda r: (r[\"timestamp\"] - start_time).total_seconds(), axis=1)\n",
    "rpc[\"latency\"] = rpc[\"latency\"].multiply(1000)\n",
    "rpc[\"window_1000\"] = rpc[\"timestamp\"].round(0).multiply(1000)\n",
    "rpc[\"window_10\"] = rpc[\"timestamp\"].round(2).multiply(1000)"
   ]
  },
  {
   "cell_type": "code",
   "execution_count": null,
   "metadata": {},
   "outputs": [],
   "source": [
    "# (Re) Create index\n",
    "rpc.set_index(\"timestamp\", inplace=True)\n",
    "rpc.sort_index(inplace=True)"
   ]
  },
  {
   "cell_type": "markdown",
   "metadata": {},
   "source": [
    "## Number of RPCs per Second"
   ]
  },
  {
   "cell_type": "code",
   "execution_count": null,
   "metadata": {},
   "outputs": [],
   "source": [
    "fig = plt.figure(figsize=(24, len(function_names) * 12))\n",
    "for (i, function) in enumerate(function_names):\n",
    "    # Data frame\n",
    "    df = rpc[(rpc[\"function\"] == function)].groupby([\"window_1000\"])[\"window_1000\"].count()\n",
    "    df = df.reindex(range(0, int(df.index.max()) + 1, 1000), fill_value=0)\n",
    "    # Plot\n",
    "    ax = fig.add_subplot(len(function_names), 1, i + 1)\n",
    "    ax.grid(alpha=0.75)\n",
    "    ax.set_xlim((int(df.index.min()), int(df.index.max())))\n",
    "    ax.set_ylim((0, int(df.values.max())))\n",
    "    df.plot(ax=ax, kind=\"line\", title=\"RPCs per second - %s\" % function, xlabel=\"Time (millisec)\", ylabel=\"Calls (count)\", grid=True)\n",
    "    plt.subplots_adjust(hspace=0.25)"
   ]
  },
  {
   "cell_type": "code",
   "execution_count": null,
   "metadata": {},
   "outputs": [],
   "source": [
    "########## ZOOM IN\n",
    "# Minimum time (in sec)\n",
    "MIN_TIME = None\n",
    "# Maximum time (in sec)\n",
    "MAX_TIME = None\n",
    "\n",
    "if MIN_TIME and MAX_TIME:\n",
    "    fig = plt.figure(figsize=(24, len(function_names) * 12))\n",
    "    for (i, function) in enumerate(function_names):\n",
    "        # Data frame\n",
    "        df = rpc[(rpc[\"function\"] == function) & (rpc.index >= MIN_TIME) & (rpc.index <= MAX_TIME)].groupby([\"window_10\"])[\"window_10\"].count()\n",
    "        if df.empty:\n",
    "            continue\n",
    "        df = df.reindex(range(int(df.index.min()), int(df.index.max()) + 1, 10), fill_value=0)\n",
    "        # Plot\n",
    "        ax = fig.add_subplot(len(function_names), 1, i + 1)\n",
    "        ax.grid(alpha=0.75)\n",
    "        ax.set_xlim((int(df.index.min()), int(df.index.max())))\n",
    "        ax.set_ylim((0, int(df.values.max())))\n",
    "        df.plot(ax=ax, kind=\"line\", title=\"RPCs per second - %s\" % function, xlabel=\"Time (millisec)\", ylabel=\"Calls (count)\", grid=True)\n",
    "        plt.subplots_adjust(hspace=0.25)"
   ]
  },
  {
   "cell_type": "markdown",
   "metadata": {},
   "source": [
    "## Instantaneous Latency of RPCs"
   ]
  },
  {
   "cell_type": "code",
   "execution_count": null,
   "metadata": {},
   "outputs": [],
   "source": [
    "fig = plt.figure(figsize=(24, len(function_names) * 12))\n",
    "for (i, function) in enumerate(function_names):\n",
    "    # Data frame\n",
    "    df = rpc[(rpc[\"function\"] == function)].groupby([\"window_1000\"])[\"latency\"].max().reindex(range(0, int(rpc[\"window_1000\"].max()) + 1, 1000), fill_value=0)\n",
    "    # Plot\n",
    "    ax = fig.add_subplot(len(function_names), 1, i + 1)\n",
    "    ax.grid(alpha=0.75)\n",
    "    ax.set_xlim((0, int(df.index.max())))\n",
    "    ax.set_ylim((0, df.values.max()))\n",
    "    df.plot(ax=ax, kind=\"line\", title=\"Instantaneous Latency - %s\" % function, xlabel=\"Time (millisec)\", ylabel=\"Latency (millisec)\", grid=True)\n",
    "    plt.subplots_adjust(hspace=0.25)"
   ]
  },
  {
   "cell_type": "code",
   "execution_count": null,
   "metadata": {},
   "outputs": [],
   "source": [
    "########## ZOOM IN\n",
    "# Minimum time (in sec)\n",
    "MIN_TIME = None\n",
    "# Maximum time (in sec)\n",
    "MAX_TIME = None\n",
    "\n",
    "if MIN_TIME and MAX_TIME:\n",
    "    fig = plt.figure(figsize=(24, len(function_names) * 12))\n",
    "    for (i, function) in enumerate(function_names):\n",
    "        # Data frame\n",
    "        df = rpc[(rpc[\"function\"] == function) & (rpc.index >= MIN_TIME) & (rpc.index <= MAX_TIME)].groupby([\"window_10\"])[\"latency\"].max()\n",
    "        if df.empty:\n",
    "            continue\n",
    "        df = df.reindex(range(int(df.index.min()), int(df.index.max()) + 1, 10), fill_value=0)\n",
    "        # Plot\n",
    "        ax = fig.add_subplot(len(function_names), 1, i + 1)\n",
    "        ax.grid(alpha=0.75)\n",
    "        ax.set_xlim((int(df.index.min()), int(df.index.max())))\n",
    "        ax.set_ylim((0, df.values.max()))\n",
    "        df.plot(ax=ax, kind=\"line\", title=\"Instantaneous Latency - %s\" % function, xlabel=\"Time (millisec)\", ylabel=\"Latency (millisec)\", grid=True)\n",
    "        plt.subplots_adjust(hspace=0.25)"
   ]
  },
  {
   "cell_type": "markdown",
   "metadata": {},
   "source": [
    "## Latency Distribution of RPCs"
   ]
  },
  {
   "cell_type": "code",
   "execution_count": null,
   "metadata": {},
   "outputs": [],
   "source": [
    "fig = plt.figure(figsize=(24, len(function_names) * 12))\n",
    "for (i, function) in enumerate(function_names):\n",
    "    # Data frame\n",
    "    df = rpc[(rpc[\"function\"] == function)]\n",
    "    if df.empty:\n",
    "        continue\n",
    "    df[\"latency_bin\"] = df.apply(lambda r: int(r[\"latency\"] // LATENCY_BIN_IN_MS), axis=1)\n",
    "    p999 = df[\"latency\"].quantile(0.999)\n",
    "    p50 = df[\"latency\"].quantile(0.50)\n",
    "    # Plot\n",
    "    ax = fig.add_subplot(len(function_names), 1, i + 1)\n",
    "    ax.set_yscale(\"log\")\n",
    "    ax.grid(alpha=0.75)\n",
    "    ax.set_xlim((0, (1000 // LATENCY_BIN_IN_MS) * max_latency_in_s))\n",
    "    ax.set_xticks(range(int((1000 // LATENCY_BIN_IN_MS) * max_latency_in_s) + 1))\n",
    "    ax.set_xticklabels(range(0, (int((1000 // LATENCY_BIN_IN_MS) * max_latency_in_s) + 1) * LATENCY_BIN_IN_MS, LATENCY_BIN_IN_MS))\n",
    "    ax.axvline(x=p50 / LATENCY_BIN_IN_MS, ls=\"dotted\", lw=5, color=\"darkorange\")\n",
    "    ax.text(x=p50 / LATENCY_BIN_IN_MS, y=10, s=\" P50\", fontsize=22, color=\"darkorange\")\n",
    "    ax.axvline(x=p999 / LATENCY_BIN_IN_MS, ls=\"dotted\", lw=5, color=\"darkorange\")\n",
    "    ax.text(x=p999 / LATENCY_BIN_IN_MS, y=10, s=\" P99.9\", fontsize=22, color=\"darkorange\")\n",
    "    df[\"latency_bin\"].plot(ax=ax, kind=\"hist\", title=\"Latency Distribution - %s\" % function, xlabel=\"Latency (milliseconds)\", ylabel=\"Calls (count)\", bins=range((1000 // LATENCY_BIN_IN_MS) * int(max_latency_in_s)), grid=True)\n",
    "    plt.subplots_adjust(hspace=0.25)"
   ]
  },
  {
   "cell_type": "markdown",
   "metadata": {},
   "source": [
    "## Statistics"
   ]
  },
  {
   "cell_type": "code",
   "execution_count": null,
   "metadata": {},
   "outputs": [],
   "source": [
    "for (i, function) in enumerate(function_names):\n",
    "    df = rpc[(rpc[\"function\"] == function)]\n",
    "    print(function)\n",
    "    print(\"  Number of RPCs/s\")\n",
    "    print(\"    Total:       %7d\" % df.shape[0])\n",
    "    print(\"    Avg:         %7.2f\" % (df.shape[0] / (df.index.max() - df.index.min())))\n",
    "    print(\"  Latency (ms)\")\n",
    "    print(\" P99.99:         %7.2f\" % (df[\"latency\"].quantile(0.9999)))\n",
    "    print(\"  P99.9:         %7.2f\" % (df[\"latency\"].quantile(0.999)))\n",
    "    print(\"    P99:         %7.2f\" % (df[\"latency\"].quantile(0.99)))\n",
    "    print(\"    P95:         %7.2f\" % (df[\"latency\"].quantile(0.95)))\n",
    "    print(\"    P50:         %7.2f\" % (df[\"latency\"].quantile(0.50)))\n",
    "    print(\"    Avg:         %7.2f\" % (df[\"latency\"].mean()))\n",
    "    print(\"    Std:         %7.2f\" % (df[\"latency\"].std()))"
   ]
  }
 ],
 "metadata": {
  "interpreter": {
   "hash": "916dbcbb3f70747c44a77c7bcd40155683ae19c65e1c03b4aa3499c5328201f1"
  },
  "kernelspec": {
   "display_name": "Python 3 (ipykernel)",
   "language": "python",
   "name": "python3"
  },
  "language_info": {
   "codemirror_mode": {
    "name": "ipython",
    "version": 3
   },
   "file_extension": ".py",
   "mimetype": "text/x-python",
   "name": "python",
   "nbconvert_exporter": "python",
   "pygments_lexer": "ipython3",
   "version": "3.8.10"
  }
 },
 "nbformat": 4,
 "nbformat_minor": 2
}

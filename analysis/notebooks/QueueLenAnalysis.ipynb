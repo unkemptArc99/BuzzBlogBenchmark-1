{
 "cells": [
  {
   "cell_type": "markdown",
   "metadata": {},
   "source": [
    "# Queue Length Analysis"
   ]
  },
  {
   "cell_type": "markdown",
   "metadata": {},
   "source": [
    "## Functionalities\n",
    "- Plot number of connections to each server and thresholds for queueing and packet dropping (max. number of threads and TCP buffer size, respectively).\n",
    "- Plot queue length of each server.\n",
    "\n",
    "## Input\n",
    "Log files are read from a directory in `../data`. This directory is assumed to have the following structure:\n",
    "```\n",
    "logs/\n",
    "  [node-1]/\n",
    "    *_service*.tar.gz\n",
    "    ...\n",
    "    apigateway*.tar.gz\n",
    "  ...\n",
    "  [node-n]/\n",
    "    *_service*.tar.gz\n",
    "    ...\n",
    "    apigateway*.tar.gz\n",
    "```\n",
    "`*_service*.tar.gz` and `apigateway*.tar.gz` tarballs contain RPC log files named `calls.log` and database query log files named `queries.log`."
   ]
  },
  {
   "cell_type": "markdown",
   "metadata": {},
   "source": [
    "## Notebook Configuration"
   ]
  },
  {
   "cell_type": "code",
   "execution_count": null,
   "metadata": {},
   "outputs": [],
   "source": [
    "########## GENERAL\n",
    "# Name of the directory in `../data`\n",
    "EXPERIMENT_DIRNAME = \"BuzzBlogBenchmark_2022-03-02-23-35-50\"\n",
    "\n",
    "########## CONNECTION\n",
    "# Window size\n",
    "WINDOW_IN_MS = 1\n",
    "\n",
    "########## THRIFT SERVERS\n",
    "THRIFT_SOMAXCONN = 1024\n",
    "THRIFT_THREADS = 1024\n",
    "\n",
    "########## POSTGRES SERVERS\n",
    "PG_SOMAXCONN = 1024\n",
    "PG_MAX_CONNECTIONS = 1024"
   ]
  },
  {
   "cell_type": "markdown",
   "metadata": {},
   "source": [
    "## Notebook Setup"
   ]
  },
  {
   "cell_type": "code",
   "execution_count": null,
   "metadata": {},
   "outputs": [],
   "source": [
    "%matplotlib inline\n",
    "import matplotlib.pyplot as plt\n",
    "import os\n",
    "import pandas as pd\n",
    "import sys\n",
    "import warnings\n",
    "warnings.filterwarnings(\"ignore\")\n",
    "\n",
    "sys.path.append(os.path.abspath(os.path.join(\"..\")))\n",
    "from utils.utils import *\n",
    "\n",
    "experiment_dirpath = os.path.join(os.path.abspath(\"\"), \"..\", \"data\", EXPERIMENT_DIRNAME)"
   ]
  },
  {
   "cell_type": "markdown",
   "metadata": {},
   "source": [
    "## RPC Log Parsing"
   ]
  },
  {
   "cell_type": "code",
   "execution_count": null,
   "metadata": {},
   "outputs": [],
   "source": [
    "# Build data frame\n",
    "rpc = pd.concat([df[2] for df in get_rpc_df(experiment_dirpath)])"
   ]
  },
  {
   "cell_type": "code",
   "execution_count": null,
   "metadata": {},
   "outputs": [],
   "source": [
    "# (Re) Build columns\n",
    "start_time = get_experiment_start_time(experiment_dirpath)\n",
    "rpc[\"timestamp\"] = rpc.apply(lambda r: (r[\"timestamp\"] - start_time).total_seconds(), axis=1)\n",
    "rpc[\"window\"] = rpc.apply(lambda r: range(int(r[\"timestamp\"] * 1000) // WINDOW_IN_MS,\n",
    "        int((r[\"timestamp\"] + r[\"latency\"] / 1000) * 1000) // WINDOW_IN_MS + 1), axis=1)\n",
    "rpc = rpc.explode(\"window\")"
   ]
  },
  {
   "cell_type": "code",
   "execution_count": null,
   "metadata": {},
   "outputs": [],
   "source": [
    "# Get values\n",
    "servers = sorted(rpc[\"server\"].unique())"
   ]
  },
  {
   "cell_type": "markdown",
   "metadata": {},
   "source": [
    "## Microservices Queue Length Analysis"
   ]
  },
  {
   "cell_type": "code",
   "execution_count": null,
   "metadata": {},
   "outputs": [],
   "source": [
    "########## LOCAL CONFIG\n",
    "# Minimum time (in seconds)\n",
    "MIN_TIME = None\n",
    "# Maximum time (in seconds)\n",
    "MAX_TIME = None\n",
    "\n",
    "# Plot\n",
    "fig = plt.figure(figsize=(24, len(servers) * 12))\n",
    "for (i, server) in enumerate(servers):\n",
    "    df = rpc[(rpc[\"server\"] == server)]\n",
    "    if MIN_TIME:\n",
    "        df = df[(df[\"timestamp\"] >= MIN_TIME)]\n",
    "    if MAX_TIME:\n",
    "        df = df[(df[\"timestamp\"] <= MAX_TIME)]\n",
    "    df = df.groupby([\"window\"])[\"window\"].count()\n",
    "    df = df.reindex(range(int(df.index.min()), int(df.index.max()) + 1), fill_value=0)\n",
    "    ax = fig.add_subplot(len(servers), 1, i + 1)\n",
    "    ax.grid(alpha=0.75)\n",
    "    ax.set_xlim((df.index.min(), df.index.max()))\n",
    "    ax.set_ylim((0, df.values.max()))\n",
    "    ax.axhline(y=THRIFT_THREADS, ls=\"--\", color=\"blue\", linewidth=5)\n",
    "    ax.axhline(y=THRIFT_THREADS + THRIFT_SOMAXCONN, ls=\"--\", color=\"red\", linewidth=5)\n",
    "    df.plot(ax=ax, kind=\"line\",\n",
    "        title=\"%s - Number of connections (%s-millisecond window)\" % (server, WINDOW_IN_MS),\n",
    "        xlabel=\"Time (s)\", ylabel=\"Connections (count)\", color=\"black\", grid=True,\n",
    "        xticks=range(int(df.index.min()), int(df.index.max()) + 1, 60 * (1000 // WINDOW_IN_MS)))"
   ]
  },
  {
   "cell_type": "code",
   "execution_count": null,
   "metadata": {},
   "outputs": [],
   "source": [
    "########## LOCAL CONFIG\n",
    "# Minimum time (in seconds)\n",
    "MIN_TIME = None\n",
    "# Maximum time (in seconds)\n",
    "MAX_TIME = None\n",
    "\n",
    "# Plot\n",
    "fig = plt.figure(figsize=(24, len(servers) * 12))\n",
    "for (i, server) in enumerate(servers):\n",
    "    df = rpc[(rpc[\"server\"] == server)]\n",
    "    if MIN_TIME:\n",
    "        df = df[(df[\"timestamp\"] >= MIN_TIME)]\n",
    "    if MAX_TIME:\n",
    "        df = df[(df[\"timestamp\"] <= MAX_TIME)]\n",
    "    df = df.groupby([\"window\"])[\"window\"].count()\n",
    "    df = df.apply(lambda r: max(r - THRIFT_THREADS, 0))\n",
    "    df = df.reindex(range(int(df.index.min()), int(df.index.max()) + 1), fill_value=0)\n",
    "    ax = fig.add_subplot(len(servers), 1, i + 1)\n",
    "    ax.grid(alpha=0.75)\n",
    "    ax.set_xlim((df.index.min(), df.index.max()))\n",
    "    ax.set_ylim((0, df.values.max()))\n",
    "    ax.axhline(y=THRIFT_SOMAXCONN, ls=\"--\", color=\"red\", linewidth=5)\n",
    "    df.plot(ax=ax, kind=\"line\",\n",
    "        title=\"%s - Queue Length (%s-millisecond window)\" % (server, WINDOW_IN_MS),\n",
    "        xlabel=\"Time (s)\", ylabel=\"Connections (count)\", color=\"black\", grid=True,\n",
    "        xticks=range(int(df.index.min()), int(df.index.max()) + 1, 60 * (1000 // WINDOW_IN_MS)))"
   ]
  },
  {
   "cell_type": "markdown",
   "metadata": {},
   "source": [
    "## Query Log Parsing"
   ]
  },
  {
   "cell_type": "code",
   "execution_count": null,
   "metadata": {},
   "outputs": [],
   "source": [
    "# Build data frame\n",
    "query = pd.concat([df[2] for df in get_query_df(experiment_dirpath)])"
   ]
  },
  {
   "cell_type": "code",
   "execution_count": null,
   "metadata": {},
   "outputs": [],
   "source": [
    "# (Re) Build columns\n",
    "start_time = get_experiment_start_time(experiment_dirpath)\n",
    "query[\"timestamp\"] = query.apply(lambda r: (r[\"timestamp\"] - start_time).total_seconds(), axis=1)\n",
    "query[\"window\"] = query.apply(lambda r: range(int(r[\"timestamp\"] * 1000) // WINDOW_IN_MS,\n",
    "        int((r[\"timestamp\"] + r[\"latency\"] / 1000) * 1000) // WINDOW_IN_MS + 1), axis=1)\n",
    "query = query.explode(\"window\")"
   ]
  },
  {
   "cell_type": "code",
   "execution_count": null,
   "metadata": {},
   "outputs": [],
   "source": [
    "# Get values\n",
    "dbnames = sorted(query[\"dbname\"].unique())"
   ]
  },
  {
   "cell_type": "markdown",
   "metadata": {},
   "source": [
    "## Databases Queue Length Analysis"
   ]
  },
  {
   "cell_type": "code",
   "execution_count": null,
   "metadata": {},
   "outputs": [],
   "source": [
    "########## LOCAL CONFIG\n",
    "# Minimum time (in seconds)\n",
    "MIN_TIME = None\n",
    "# Maximum time (in seconds)\n",
    "MAX_TIME = None\n",
    "\n",
    "# Plot\n",
    "fig = plt.figure(figsize=(24, len(servers) * 12))\n",
    "for (i, dbname) in enumerate(dbnames):\n",
    "    df = query[(query[\"dbname\"] == dbname)]\n",
    "    if MIN_TIME:\n",
    "        df = df[(df[\"timestamp\"] >= MIN_TIME)]\n",
    "    if MAX_TIME:\n",
    "        df = df[(df[\"timestamp\"] <= MAX_TIME)]\n",
    "    df = df.groupby([\"window\"])[\"window\"].count()\n",
    "    df = df.reindex(range(int(df.index.min()), int(df.index.max()) + 1), fill_value=0)\n",
    "    ax = fig.add_subplot(len(servers), 1, i + 1)\n",
    "    ax.grid(alpha=0.75)\n",
    "    ax.set_xlim((df.index.min(), df.index.max()))\n",
    "    ax.set_ylim((0, df.values.max()))\n",
    "    ax.axhline(y=PG_MAX_CONNECTIONS, ls=\"--\", color=\"blue\", linewidth=5)\n",
    "    ax.axhline(y=PG_MAX_CONNECTIONS + PG_SOMAXCONN, ls=\"--\", color=\"red\", linewidth=5)\n",
    "    df.plot(ax=ax, kind=\"line\",\n",
    "        title=\"%s - Number of connections (%s-millisecond window)\" % (dbname, WINDOW_IN_MS),\n",
    "        xlabel=\"Time (s)\", ylabel=\"Connections (count)\", color=\"black\", grid=True,\n",
    "        xticks=range(int(df.index.min()), int(df.index.max()) + 1, 60 * (1000 // WINDOW_IN_MS)))"
   ]
  },
  {
   "cell_type": "code",
   "execution_count": null,
   "metadata": {},
   "outputs": [],
   "source": [
    "########## LOCAL CONFIG\n",
    "# Minimum time (in seconds)\n",
    "MIN_TIME = None\n",
    "# Maximum time (in seconds)\n",
    "MAX_TIME = None\n",
    "\n",
    "# Plot\n",
    "fig = plt.figure(figsize=(24, len(servers) * 12))\n",
    "for (i, dbname) in enumerate(dbnames):\n",
    "    df = query[(query[\"dbname\"] == dbname)]\n",
    "    if MIN_TIME:\n",
    "        df = df[(df[\"timestamp\"] >= MIN_TIME)]\n",
    "    if MAX_TIME:\n",
    "        df = df[(df[\"timestamp\"] <= MAX_TIME)]\n",
    "    df = df.groupby([\"window\"])[\"window\"].count()\n",
    "    df = df.apply(lambda r: max(r - PG_MAX_CONNECTIONS, 0))\n",
    "    df = df.reindex(range(int(df.index.min()), int(df.index.max()) + 1), fill_value=0)\n",
    "    ax = fig.add_subplot(len(servers), 1, i + 1)\n",
    "    ax.grid(alpha=0.75)\n",
    "    ax.set_xlim((df.index.min(), df.index.max()))\n",
    "    ax.set_ylim((0, df.values.max()))\n",
    "    ax.axhline(y=PG_SOMAXCONN, ls=\"--\", color=\"red\", linewidth=5)\n",
    "    df.plot(ax=ax, kind=\"line\",\n",
    "        title=\"%s - Queue Length (%s-millisecond window)\" % (dbname, WINDOW_IN_MS),\n",
    "        xlabel=\"Time (s)\", ylabel=\"Connections (count)\", color=\"black\", grid=True,\n",
    "        xticks=range(int(df.index.min()), int(df.index.max()) + 1, 60 * (1000 // WINDOW_IN_MS)))"
   ]
  }
 ],
 "metadata": {
  "interpreter": {
   "hash": "916dbcbb3f70747c44a77c7bcd40155683ae19c65e1c03b4aa3499c5328201f1"
  },
  "kernelspec": {
   "display_name": "Python 3 (ipykernel)",
   "language": "python",
   "name": "python3"
  },
  "language_info": {
   "codemirror_mode": {
    "name": "ipython",
    "version": 3
   },
   "file_extension": ".py",
   "mimetype": "text/x-python",
   "name": "python",
   "nbconvert_exporter": "python",
   "pygments_lexer": "ipython3",
   "version": "3.8.10"
  }
 },
 "nbformat": 4,
 "nbformat_minor": 2
}

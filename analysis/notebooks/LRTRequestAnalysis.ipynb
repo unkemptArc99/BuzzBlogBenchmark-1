{
 "cells": [
  {
   "cell_type": "markdown",
   "metadata": {},
   "source": [
    "# LRT Request Analysis"
   ]
  },
  {
   "cell_type": "markdown",
   "metadata": {},
   "source": [
    "## Functionalities\n",
    "- Analysis of RPCs and queries of LRT requests.\n",
    "\n",
    "## Input\n",
    "Log files are read from a directory in `../data`. This directory is assumed to have the following structure:\n",
    "```\n",
    "logs/\n",
    "  [node-1]/\n",
    "    *_service*.tar.gz\n",
    "    ...\n",
    "    apigateway*.tar.gz\n",
    "    ...\n",
    "    loadgen.tar.gz\n",
    "  ...\n",
    "  [node-n]/\n",
    "    *_service*.tar.gz\n",
    "    ...\n",
    "    apigateway*.tar.gz\n",
    "    ...\n",
    "    loadgen.tar.gz\n",
    "```"
   ]
  },
  {
   "cell_type": "markdown",
   "metadata": {},
   "source": [
    "## Notebook Configuration"
   ]
  },
  {
   "cell_type": "code",
   "execution_count": null,
   "metadata": {},
   "outputs": [],
   "source": [
    "########## GENERAL\n",
    "# Name of the directory in `../data`\n",
    "EXPERIMENT_DIRNAME = \"BuzzBlogBenchmark_[TIMESTAMP]\"\n",
    "\n",
    "########## LATENCY\n",
    "# Latency threshold (in sec)\n",
    "LRT_REQUEST_LATENCY_THRESHOLD = 1"
   ]
  },
  {
   "cell_type": "markdown",
   "metadata": {},
   "source": [
    "## Notebook Setup"
   ]
  },
  {
   "cell_type": "code",
   "execution_count": null,
   "metadata": {},
   "outputs": [],
   "source": [
    "%matplotlib inline\n",
    "import matplotlib.pyplot as plt\n",
    "import os\n",
    "import pandas as pd\n",
    "import sys\n",
    "import warnings\n",
    "warnings.filterwarnings(\"ignore\")\n",
    "\n",
    "sys.path.append(os.path.abspath(os.path.join(\"..\")))\n",
    "from utils.utils import *\n",
    "\n",
    "experiment_dirpath = os.path.join(os.path.abspath(\"\"), \"..\", \"data\", EXPERIMENT_DIRNAME)"
   ]
  },
  {
   "cell_type": "markdown",
   "metadata": {},
   "source": [
    "## Log Parsing & Processing"
   ]
  },
  {
   "cell_type": "code",
   "execution_count": null,
   "metadata": {},
   "outputs": [],
   "source": [
    "# Build data frames\n",
    "requests = pd.concat([df[2] for df in get_loadgen_df(experiment_dirpath)])\n",
    "rpc = pd.concat([df[2] for df in get_rpc_df(experiment_dirpath)])\n",
    "query = pd.concat([df[2] for df in get_query_df(experiment_dirpath)])"
   ]
  },
  {
   "cell_type": "markdown",
   "metadata": {},
   "source": [
    "## Analysis of LRT Requests"
   ]
  },
  {
   "cell_type": "code",
   "execution_count": null,
   "metadata": {},
   "outputs": [],
   "source": [
    "lrt_requests = requests[(requests[\"latency\"] > LRT_REQUEST_LATENCY_THRESHOLD)]\n",
    "for lrt_request in lrt_requests.to_dict(\"records\"):\n",
    "    print(lrt_request)\n",
    "    print(\"Request ID: %s\" % lrt_request[\"request_id\"])\n",
    "    print(\"  Type: %s\" % lrt_request[\"type\"])\n",
    "    print(\"  RPCs:\")\n",
    "    for lrt_request_rpc in rpc[(rpc[\"request_id\"] == lrt_request[\"request_id\"])].to_dict(\"records\"):\n",
    "        print(\"    %s - %s\" % (lrt_request_rpc[\"function\"], lrt_request_rpc[\"latency\"]))\n",
    "    print(\"  Queries:\")\n",
    "    for lrt_request_query in query[(query[\"request_id\"] == lrt_request[\"request_id\"])].to_dict(\"records\"):\n",
    "        print(\"    %s - %s\" % (lrt_request_query[\"dbname\"] + \":\" + lrt_request_query[\"type\"], lrt_request_query[\"latency\"]))"
   ]
  }
 ],
 "metadata": {
  "interpreter": {
   "hash": "31f2aee4e71d21fbe5cf8b01ff0e069b9275f58929596ceb00d14d90e3e16cd6"
  },
  "kernelspec": {
   "display_name": "Python 3 (ipykernel)",
   "language": "python",
   "name": "python3"
  },
  "language_info": {
   "codemirror_mode": {
    "name": "ipython",
    "version": 3
   },
   "file_extension": ".py",
   "mimetype": "text/x-python",
   "name": "python",
   "nbconvert_exporter": "python",
   "pygments_lexer": "ipython3",
   "version": "3.8.10"
  }
 },
 "nbformat": 4,
 "nbformat_minor": 2
}

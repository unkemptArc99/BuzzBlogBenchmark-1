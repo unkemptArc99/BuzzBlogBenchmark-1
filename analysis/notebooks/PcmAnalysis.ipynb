{
 "cells": [
  {
   "cell_type": "markdown",
   "metadata": {},
   "source": [
    "# Analysis from the PCM monitor\n",
    "\n",
    "Currently, analysing -\n",
    "- IPC (Instructions per cycle)\n",
    "- Cache Miss and Cache Hits/Miss Ratio"
   ]
  },
  {
   "cell_type": "code",
   "execution_count": 1,
   "metadata": {},
   "outputs": [],
   "source": [
    "%matplotlib inline\n",
    "import matplotlib.pyplot as plt\n",
    "import os\n",
    "import pandas as pd\n",
    "import sys\n",
    "import warnings\n",
    "from datetime import datetime\n",
    "warnings.filterwarnings(\"ignore\")\n",
    "\n",
    "sys.path.append(os.path.abspath(os.path.join(\"..\")))\n",
    "from parsers.rpc_parser import RPCParser\n",
    "from utils.utils import *"
   ]
  },
  {
   "cell_type": "code",
   "execution_count": 2,
   "metadata": {},
   "outputs": [],
   "source": [
    "EXPERIMENT_DIRNAME = \"BuzzBlogBenchmark_2022-01-30-22-32-14\""
   ]
  },
  {
   "cell_type": "markdown",
   "metadata": {},
   "source": [
    "## Log Parsing"
   ]
  },
  {
   "cell_type": "markdown",
   "metadata": {},
   "source": [
    "Reading CSV and removing the unnecessary \"Unnamed\" column"
   ]
  },
  {
   "cell_type": "code",
   "execution_count": 3,
   "metadata": {},
   "outputs": [
    {
     "name": "stdout",
     "output_type": "stream",
     "text": [
      "(37322, 595)\n",
      "(37319, 595)\n",
      "(37325, 595)\n",
      "(37326, 595)\n",
      "(37331, 595)\n",
      "(37321, 595)\n",
      "(37328, 595)\n",
      "(37323, 595)\n",
      "(37326, 595)\n",
      "(37329, 595)\n",
      "(37325, 595)\n",
      "(37324, 595)\n"
     ]
    }
   ],
   "source": [
    "raw_csv_mult_nodes = {}\n",
    "for node_name, logfiles in get_experiment_pcm_logfiles(EXPERIMENT_DIRNAME):\n",
    "    raw_csv_mult_nodes[node_name] = pd.read_csv(logfiles)\n",
    "    raw_csv_mult_nodes[node_name].drop(columns=['Unnamed: 594'], inplace=True)\n",
    "    raw_csv_mult_nodes[node_name]['Node Name'] = [node_name] * raw_csv_mult_nodes[node_name].shape[0]\n",
    "    print(raw_csv_mult_nodes[node_name].shape)\n"
   ]
  },
  {
   "cell_type": "code",
   "execution_count": 4,
   "metadata": {},
   "outputs": [],
   "source": [
    "combined_csv = pd.concat(list(raw_csv_mult_nodes.values()))\n",
    "print(combined_csv.shape)"
   ]
  },
  {
   "cell_type": "code",
   "execution_count": null,
   "metadata": {},
   "outputs": [],
   "source": [
    "raw_csv = pd.read_csv(\"../data/pcm.csv\")\n",
    "raw_csv.drop(columns=['Unnamed: 594'], inplace=True)"
   ]
  },
  {
   "cell_type": "markdown",
   "metadata": {},
   "source": [
    "Filtering the automatic garbage introduced by reading CSV"
   ]
  },
  {
   "cell_type": "code",
   "execution_count": null,
   "metadata": {},
   "outputs": [],
   "source": [
    "labels = raw_csv.iloc[0]\n",
    "old_cols_name = [x.split('.')[0] for x in list(labels.keys())]      # Removing the .1, .2, etc. Now only contains classification of data, like, System, Core 0, etc.\n",
    "labels = list(labels.values)                                       # List with all the attributes of data\n",
    "new_cols_name = [old_cols_name[i] + \" \" + labels[i]  for i in range(len(old_cols_name))]\n",
    "column_change_dict = {raw_csv.columns.values[i]: new_cols_name[i] for i in range(len(new_cols_name))}\n",
    "\n",
    "raw_csv.rename(columns=column_change_dict, inplace=True)\n",
    "raw_csv.drop(index=raw_csv.index[0], axis=0, inplace=True)\n",
    "timestamp = raw_csv['System Date'] + \" \" + raw_csv['System Time']\n",
    "raw_csv.insert(0,'Timestamp', timestamp)\n",
    "raw_csv.drop(labels=['System Date', 'System Time'], axis=1, inplace=True)\n",
    "print(raw_csv.columns.values)\n"
   ]
  },
  {
   "cell_type": "code",
   "execution_count": null,
   "metadata": {},
   "outputs": [],
   "source": [
    "system_stats = raw_csv.loc[:, :'UncFREQ (Ghz) SKT0']\n",
    "start_time = datetime.fromisoformat(system_stats['Timestamp'][1])\n",
    "system_stats['Timestamp'] = system_stats.apply(lambda r: (datetime.fromisoformat(r['Timestamp']) - start_time).total_seconds(), axis=1)\n",
    "system_stats.set_index('Timestamp', inplace=True)\n"
   ]
  },
  {
   "cell_type": "markdown",
   "metadata": {},
   "source": [
    "## Plotting Graphs\n",
    "\n",
    "### IPC"
   ]
  },
  {
   "cell_type": "code",
   "execution_count": null,
   "metadata": {},
   "outputs": [],
   "source": [
    "system_stats['System IPC'] = system_stats.apply(lambda r: float(r['System IPC']), axis=1)\n",
    "fig = plt.figure(figsize=(24,12))\n",
    "ax = fig.add_subplot()\n",
    "df = system_stats['System IPC']\n",
    "ax.grid(alpha=0.75)\n",
    "df.plot(ax=ax, kind=\"line\", title=\"IPC\", xlabel=\"Seconds\", ylabel=\"Instruction per cycles\", color=\"blue\", grid=True)\n"
   ]
  }
 ],
 "metadata": {
  "interpreter": {
   "hash": "930131201176a0c9c5137d64a9003e56574fe1418480f6abbfa86be810407332"
  },
  "kernelspec": {
   "display_name": "Python 3.8.10 64-bit ('dataAnalysis': venv)",
   "language": "python",
   "name": "python3"
  },
  "language_info": {
   "codemirror_mode": {
    "name": "ipython",
    "version": 3
   },
   "file_extension": ".py",
   "mimetype": "text/x-python",
   "name": "python",
   "nbconvert_exporter": "python",
   "pygments_lexer": "ipython3",
   "version": "3.8.10"
  },
  "orig_nbformat": 4
 },
 "nbformat": 4,
 "nbformat_minor": 2
}
